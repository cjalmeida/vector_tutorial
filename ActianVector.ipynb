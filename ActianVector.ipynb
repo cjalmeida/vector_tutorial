{
 "cells": [
  {
   "cell_type": "markdown",
   "metadata": {},
   "source": [
    "ACTIAN VECTOR TUTORIAL\n",
    "============\n",
    "\n",
    "In this post, we're going to show you how to install and run big data analytics using [Actian Vector](https://www.actian.com/analytic-database/vector-smp-analytic-database/) columnar database using Jupyter Notebooks. Compared to traditional row-oriented databases, columnar databases like Vector really shine on analytics tasks where you need to do a lot of aggregate operations across many rows. Actian Vector in particular leverage modern processor architecture (multi-core and SIMD instructions) to heavily paralellize the workload and speed-up calculations.\n",
    "\n",
    "Installing Actian Vector\n",
    "------------------------\n",
    "\n",
    "We'll work in a *Ubuntu Linux 64-bit 16.06 LTS* machine. We'll also assume you're using `bash`. Vector should work on any recent Linux distro so adapt the instructions below as needed. To install Actian Vector, we're going to follow the \"Getting Started\" section of the [official documentation](http://docs.actian.com/vector/5.0/index.html). First install the system dependencies, namely *LibAIO*\n",
    "\n",
    "```bash\n",
    "sudo apt install libaio1\n",
    "```\n",
    "\n",
    "Download [Actian Vector Community Edition] (https://www.actian.com/lp/vector-community-edition/) that allows you 1TB of data without any time limit. After receiving the download link by email and fetching the install `tgz` file, uncompress and run the `install.sh` as super-user then follow instructions.\n",
    "\n",
    "```bash\n",
    "tar xvf ~/Downloads/actian-vector-5.0.0-405-community-linux-x86_64.tgz\n",
    "cd actian-vector-5.0.0-405-community-linux-x86_64/\n",
    "sudo ./install.sh\n",
    "```\n",
    "\n",
    "The default answers will install under `/opt/Actian/VectorVW` (server code `VW`) and create an `actian` user on your machine. Now let's run some post-installation commands to setup Vector as a system service.\n",
    "\n",
    "```bash\n",
    "sudo -u actian bash -c 'source ~actian/.ingVWsh && mkrc'\n",
    "sudo cp /opt/Actian/VectorVW/ingres/files/rcfiles/actian-vectorVW /etc/init.d/\n",
    "sudo systemctl enable actian-vectorVW\n",
    "sudo systemctl start actian-vectorVW\n",
    "\n",
    "```\n",
    "\n",
    "Now you can use the regular `systemctl` commands to `start` and `stop` your `actian-vectoVW` service. Most administrative commands are run under the created `actian` user. We'll also `source` a small shell script (created during install) that setup `PATH` and other enviroment variables. Use the command below to run Vector commands as `actian` user and test the server is up and running.\n",
    "\n",
    "```bash\n",
    "sudo -u -i actian\n",
    "\n",
    "# as \"actian\" user\n",
    "source ~/.ingVWsh\n",
    "echo 'select 1\\g' | sql iidbdb\n",
    "```\n",
    "\n",
    "This should output something like:\n",
    "\n",
    "```\n",
    "* Executing . . .\n",
    "\n",
    "\n",
    "┌──────┐\n",
    "│col1  │\n",
    "├──────┤\n",
    "│     1│\n",
    "└──────┘\n",
    "(1 row)\n",
    "continue\n",
    "* \n",
    "Your SQL statement(s) have been committed.\n",
    "```\n",
    "If you get an error like `E_LQ0001 Failed to connect to DBMS session.`, it means your server is not running or something went wrong during installation.\n",
    "\n",
    "\n",
    "Creating a new test database \n",
    "----------------------------\n",
    "\n",
    "We're going to use the `createdb` command to create a new `testdb` database and setup ODBC connection.\n",
    "\n",
    "```bash\n",
    "sudo -u -i actian\n",
    "\n",
    "## as \"actian\" user\n",
    "createdb testdb\n",
    "iiodbcadmin add testdb\n",
    "iiodbcadmin test testdb\n",
    "```\n",
    "\n",
    "The last command should output `iiodbcadmin: Connection was successful.` Now we're going to grant permission on the DB to your user using the SQL `CREATE USER` and `GRANT` statements. In the SQL commands below, replace `<user>` with the name of the OS user account that will run the Jupyter Notebook.\n",
    "\n",
    "```bash\n",
    "## as \"actian\" user\n",
    "echo 'CREATE USER <user> WITH NOPROFILE, NOGROUP, NOEXPIRE_DATE, NOSECURITY_AUDIT \\g' | sql iidbdb\n",
    "echo 'GRANT ALL PRIVILEGES ON DATABASE testdb TO <user> \\g' | sql iidbdb\n",
    "```\n",
    "\n",
    "\n",
    "Installing Python dependencies\n",
    "------------------------------\n",
    "\n",
    "If you don't already have an *Anaconda Python 3.6* environment ready, install one using *Anaconda* package manager. Download Anaconda (or Miniconda if you prefer) from the [official download site](https://www.continuum.io/downloads). Then just run the command below and follow the instructions:\n",
    "\n",
    "```bash\n",
    "bash Anaconda3-4.4.0-Linux-x86_64.sh\n",
    "```\n",
    "\n",
    "The default (and assumed) install location is `~/anaconda3`. We're going to create a new virtual environment named `vector` just for this tutorial and activate it:\n",
    "\n",
    "```bash\n",
    "~/anaconda3/bin/conda create -y -n vector\n",
    "source ~/anaconda3/bin/activate vector\n",
    "```\n",
    "\n",
    "This will give you a Bash prompt with `(vector)` string prepended. Now install the `conda` dependencies by running the command below:\n",
    "\n",
    "```bash\n",
    "## in (vector) virtualenv\n",
    "conda install -y jupyter pandas pyodbc matplotlib seaborn tqdm\n",
    "conda install -c conda-forge turbodbc=2.0.0\n",
    "```\n",
    "\n",
    "Running (this) Jupyter Notebook\n",
    "-----------------------------------\n",
    "\n",
    "Before running the Jupyter server, we need setup the environment variables as the user that will run the Jupyter notebook.\n",
    "\n",
    "```bash\n",
    "source ~actian/.ingVWsh\n",
    "export ODBCSYSINI=/opt/Actian/VectorVW/ingres/files\n",
    "\n",
    "## test we can connect to Vectian as the non-admin user\n",
    "iiodbcadmin test testdb\n",
    "```\n",
    "\n",
    "Activate the `vector` virtual environment we created before, start the Jupyter server and open this `ActianVector.ipynb` notebook. \n",
    "\n",
    "```bash\n",
    "## in the directory containing the .ipynb file and code\n",
    "source ~/anaconda3/bin/activate vector\n",
    "\n",
    "## in (vector) virtualenv\n",
    "jupyter notebook .\n",
    "```\n"
   ]
  },
  {
   "cell_type": "markdown",
   "metadata": {},
   "source": [
    "Connecting to Vector using \"turbodbc\"\n",
    "---------------------------------\n",
    "\n",
    "The `turbodbc` is a DBAPI2 compatible Python library to connect to datasources providing an ODBC driver. The code below will connect to Vector and issue a sample SQL statement. I picked `turbodbc` because it's more performant but if you prefer, you can use good ol' `pyodbc`, they're API are essentially the same."
   ]
  },
  {
   "cell_type": "code",
   "execution_count": 1,
   "metadata": {},
   "outputs": [
    {
     "name": "stdout",
     "output_type": "stream",
     "text": [
      "Result: [1]\n"
     ]
    }
   ],
   "source": [
    "import turbodbc as odbc\n",
    "\n",
    "# Connect to the pre-configured data source\n",
    "conn = odbc.connect('testdb')\n",
    "\n",
    "# Create a cursor and execute a statement.\n",
    "cursor = conn.cursor()\n",
    "cursor.execute('SELECT 1 as test_col')\n",
    "res = cursor.fetchone()\n",
    "\n",
    "print('Result:', res)"
   ]
  },
  {
   "cell_type": "markdown",
   "metadata": {},
   "source": [
    "Use Case: Smart energy metering logs\n",
    "------------------------------------\n",
    "\n",
    "Our test data will simulate an IoT analytics application. Our fictional company runs analytic queries over a fleet of smart energy meters each sending daily records. Data consists of energy consumption (in kWh), max and min voltage levels (in V) and a flag indicating an outage/brown-out. \n",
    "\n",
    "### Schema creation\n",
    "The data is modeled after a typical \"Star Schema\" with a `metering_fact` fact table, and `customer_dim` and `date_dim` dimensions, as shown by the diagram below:\n",
    "\n",
    "<p>\n",
    "<img src=\"schema.png\">\n",
    "<p>\n",
    "\n",
    "Let's create the schema now:"
   ]
  },
  {
   "cell_type": "code",
   "execution_count": null,
   "metadata": {},
   "outputs": [],
   "source": [
    "date_dim_ddl = \"\"\"\n",
    "create table date_dim(\n",
    "    skey integer4,\n",
    "    date ansidate,\n",
    "    day integer1,\n",
    "    month integer1,\n",
    "    year integer2,\n",
    "    day_of_week integer1,\n",
    "    week integer1,\n",
    "    quarter integer1\n",
    ")\n",
    "\"\"\"\n",
    "\n",
    "customer_dim_ddl = \"\"\"\n",
    "create table customer_dim(\n",
    "    skey integer4,\n",
    "    zipcode integer4,\n",
    "    county varchar(255),\n",
    "    state varchar(2)\n",
    ")\n",
    "\"\"\"\n",
    "\n",
    "metering_fact_ddl = \"\"\"\n",
    "create table metering_fact(\n",
    "    customer_skey integer4,\n",
    "    date_skey integer4,\n",
    "    consumption integer4,\n",
    "    min_voltage integer2,\n",
    "    max_voltage integer2,\n",
    "    outage integer1\n",
    ")\n",
    "\"\"\"\n",
    "\n",
    "cursor.execute(date_dim_ddl)\n",
    "cursor.execute(customer_dim_ddl)\n",
    "cursor.execute(metering_fact_ddl)\n",
    "conn.commit()\n"
   ]
  },
  {
   "cell_type": "markdown",
   "metadata": {},
   "source": [
    "We're not using any sort of index or constraint in the data model. First, Vector has it's own optimization for anaytical queries that generally doesn't require explict indexes. As for constraints, they have a performance impact on load and it's common to delegate data integrity to the ETL process instead of having it on the database on anaytical workloads.\n",
    "\n",
    "### Data loading\n",
    "\n",
    "The \"customer\" data is sampled randomly from a list of zip codes from the \"New England\" region of the US (Maine, Vermont, New Hampshire, Massachusetts, Rhode Island, and Connecticut) until we get about 500 thousand \"customers\". Then we generate daily measurements for each customer for two years (2015 and 2016) giving us about 365 million rows, or about 6.5 GB of data. The measurements are generated from a gaussian distribution with higher average consumption in winter and summer months.\n"
   ]
  },
  {
   "cell_type": "code",
   "execution_count": 2,
   "metadata": {},
   "outputs": [
    {
     "data": {
      "application/vnd.jupyter.widget-view+json": {
       "model_id": "5378bf8260e44230bf65cd3b544deaf9"
      }
     },
     "metadata": {},
     "output_type": "display_data"
    },
    {
     "data": {
      "application/vnd.jupyter.widget-view+json": {
       "model_id": "eb4ba841e8df4e2d9fb8fb686c611adf"
      }
     },
     "metadata": {},
     "output_type": "display_data"
    },
    {
     "name": "stdout",
     "output_type": "stream",
     "text": [
      "\n",
      "365500000/|/100%|| 365500000/365500000 [28:50<00:00, 224832.54it/s]"
     ]
    }
   ],
   "source": [
    "from vector_tutorial import load_data\n",
    "load_data(conn)"
   ]
  },
  {
   "cell_type": "markdown",
   "metadata": {
    "collapsed": true
   },
   "source": [
    "The actual implementation code is in the `vector_tutorial.py` file. A note about the implementation: as you can see above, loading `customer_dim` is much slower (~16K records/sec) than loading `metering_fact` (~224K records/sec!). The reason is that I'm using the ODBC layer with `INSERT` statements for loading customers, and the `COPY` statement to load measurements. As expected, the `COPY` is much faster and should be preferred when loading large amounts of data.\n",
    "\n",
    "### Querying and visualizing\n",
    "\n",
    "First, let's issue the simplest possible query. We'll use Pandas nice integration with both DBAPI2 API and Jupyter to show nice plots and tables effortlesly."
   ]
  },
  {
   "cell_type": "code",
   "execution_count": 25,
   "metadata": {},
   "outputs": [
    {
     "name": "stdout",
     "output_type": "stream",
     "text": [
      "CPU times: user 16 ms, sys: 136 ms, total: 152 ms\n",
      "Wall time: 173 ms\n"
     ]
    }
   ],
   "source": [
    "%%time\n",
    "import pandas as pd\n",
    "s = ('SELECT count(*) as row_count FROM metering_fact')\n",
    "df = pd.read_sql(s, conn)"
   ]
  },
  {
   "cell_type": "code",
   "execution_count": 26,
   "metadata": {},
   "outputs": [
    {
     "data": {
      "text/html": [
       "<div>\n",
       "<style>\n",
       "    .dataframe thead tr:only-child th {\n",
       "        text-align: right;\n",
       "    }\n",
       "\n",
       "    .dataframe thead th {\n",
       "        text-align: left;\n",
       "    }\n",
       "\n",
       "    .dataframe tbody tr th {\n",
       "        vertical-align: top;\n",
       "    }\n",
       "</style>\n",
       "<table border=\"1\" class=\"dataframe\">\n",
       "  <thead>\n",
       "    <tr style=\"text-align: right;\">\n",
       "      <th></th>\n",
       "      <th>row_count</th>\n",
       "    </tr>\n",
       "  </thead>\n",
       "  <tbody>\n",
       "    <tr>\n",
       "      <th>0</th>\n",
       "      <td>365500000</td>\n",
       "    </tr>\n",
       "  </tbody>\n",
       "</table>\n",
       "</div>"
      ],
      "text/plain": [
       "   row_count\n",
       "0  365500000"
      ]
     },
     "execution_count": 26,
     "metadata": {},
     "output_type": "execute_result"
    }
   ],
   "source": [
    "df"
   ]
  },
  {
   "cell_type": "markdown",
   "metadata": {},
   "source": [
    "Ok. We got subsecond response from a simple `count`. Of course, that could've come from table statistics so, let's issue a sum over three measurement columns."
   ]
  },
  {
   "cell_type": "code",
   "execution_count": 27,
   "metadata": {},
   "outputs": [
    {
     "name": "stdout",
     "output_type": "stream",
     "text": [
      "CPU times: user 12 ms, sys: 232 ms, total: 244 ms\n",
      "Wall time: 638 ms\n"
     ]
    }
   ],
   "source": [
    "%%time\n",
    "s = ('SELECT sum(consumption) as sum_con, sum(max_voltage) as sum_max_v, sum(min_voltage) as sum_min_v '\n",
    "     'FROM metering_fact')\n",
    "df = pd.read_sql(s, conn)"
   ]
  },
  {
   "cell_type": "code",
   "execution_count": 28,
   "metadata": {},
   "outputs": [
    {
     "data": {
      "text/html": [
       "<div>\n",
       "<style>\n",
       "    .dataframe thead tr:only-child th {\n",
       "        text-align: right;\n",
       "    }\n",
       "\n",
       "    .dataframe thead th {\n",
       "        text-align: left;\n",
       "    }\n",
       "\n",
       "    .dataframe tbody tr th {\n",
       "        vertical-align: top;\n",
       "    }\n",
       "</style>\n",
       "<table border=\"1\" class=\"dataframe\">\n",
       "  <thead>\n",
       "    <tr style=\"text-align: right;\">\n",
       "      <th></th>\n",
       "      <th>sum_con</th>\n",
       "      <th>sum_max_v</th>\n",
       "      <th>sum_min_v</th>\n",
       "    </tr>\n",
       "  </thead>\n",
       "  <tbody>\n",
       "    <tr>\n",
       "      <th>0</th>\n",
       "      <td>10791989455</td>\n",
       "      <td>41923524917</td>\n",
       "      <td>45431185832</td>\n",
       "    </tr>\n",
       "  </tbody>\n",
       "</table>\n",
       "</div>"
      ],
      "text/plain": [
       "       sum_con    sum_max_v    sum_min_v\n",
       "0  10791989455  41923524917  45431185832"
      ]
     },
     "execution_count": 28,
     "metadata": {},
     "output_type": "execute_result"
    }
   ],
   "source": [
    "df"
   ]
  },
  {
   "cell_type": "markdown",
   "metadata": {},
   "source": [
    "Again, subsecond responses! Now, for a more complex query, let's show a*Monthly Consuption in 2015* plot."
   ]
  },
  {
   "cell_type": "code",
   "execution_count": 90,
   "metadata": {},
   "outputs": [
    {
     "name": "stdout",
     "output_type": "stream",
     "text": [
      "CPU times: user 8 ms, sys: 32 ms, total: 40 ms\n",
      "Wall time: 1.37 s\n"
     ]
    }
   ],
   "source": [
    "%%time\n",
    "s = ('SELECT d.month, sum(f.consumption) as sum_con '\n",
    "     'FROM metering_fact as f '\n",
    "     'JOIN date_dim as d on f.date_skey = d.skey '\n",
    "     'WHERE d.year = 2015'\n",
    "     'GROUP BY d.month ')\n",
    "df = pd.read_sql(s, conn)"
   ]
  },
  {
   "cell_type": "code",
   "execution_count": 91,
   "metadata": {},
   "outputs": [
    {
     "data": {
      "text/plain": [
       "<matplotlib.axes._subplots.AxesSubplot at 0x7feceb0066d8>"
      ]
     },
     "execution_count": 91,
     "metadata": {},
     "output_type": "execute_result"
    },
    {
     "data": {
      "image/png": "[encoded data removed]",
      "text/plain": [
       "<matplotlib.figure.Figure at 0x7feceb46e5c0>"
      ]
     },
     "metadata": {},
     "output_type": "display_data"
    }
   ],
   "source": [
    "import matplotlib, seaborn\n",
    "%matplotlib inline\n",
    "df.plot(kind='bar', x='month', y='sum_con', title=\"Monthly Consumption in 2015\")"
   ]
  },
  {
   "cell_type": "markdown",
   "metadata": {},
   "source": [
    "Took under 2s in my 5-years old 4-core i5 CPU. Interestingly that we didn't need an explict index to get a performant `JOIN`. Let's try a query likely to be generated by some OLAP tool, crossing \"Customer\" and \"Date\" dimensions, slicing by \"Date::Year\"."
   ]
  },
  {
   "cell_type": "code",
   "execution_count": 107,
   "metadata": {},
   "outputs": [
    {
     "name": "stdout",
     "output_type": "stream",
     "text": [
      "CPU times: user 12 ms, sys: 144 ms, total: 156 ms\n",
      "Wall time: 4.35 s\n"
     ]
    }
   ],
   "source": [
    "%%time\n",
    "s = ('SELECT c.state, d.quarter, d.month, sum(f.consumption) as sum_con '\n",
    "     'FROM metering_fact as f '\n",
    "     'JOIN date_dim as d on f.date_skey = d.skey '\n",
    "     'JOIN customer_dim as c on f.customer_skey = c.skey '\n",
    "     'WHERE d.year = 2015 '\n",
    "     'GROUP BY c.state, d.month, d.quarter ')\n",
    "df = pd.read_sql(s, conn)"
   ]
  },
  {
   "cell_type": "code",
   "execution_count": 108,
   "metadata": {},
   "outputs": [
    {
     "data": {
      "text/html": [
       "<div>\n",
       "<style>\n",
       "    .dataframe thead tr:only-child th {\n",
       "        text-align: right;\n",
       "    }\n",
       "\n",
       "    .dataframe thead th {\n",
       "        text-align: left;\n",
       "    }\n",
       "\n",
       "    .dataframe tbody tr th {\n",
       "        vertical-align: top;\n",
       "    }\n",
       "</style>\n",
       "<table border=\"1\" class=\"dataframe\">\n",
       "  <thead>\n",
       "    <tr style=\"text-align: right;\">\n",
       "      <th></th>\n",
       "      <th>state</th>\n",
       "      <th>CT</th>\n",
       "      <th>MA</th>\n",
       "      <th>ME</th>\n",
       "      <th>NH</th>\n",
       "      <th>RI</th>\n",
       "      <th>VT</th>\n",
       "    </tr>\n",
       "    <tr>\n",
       "      <th>quarter</th>\n",
       "      <th>month</th>\n",
       "      <th></th>\n",
       "      <th></th>\n",
       "      <th></th>\n",
       "      <th></th>\n",
       "      <th></th>\n",
       "      <th></th>\n",
       "    </tr>\n",
       "  </thead>\n",
       "  <tbody>\n",
       "    <tr>\n",
       "      <th rowspan=\"3\" valign=\"top\">1</th>\n",
       "      <th>1</th>\n",
       "      <td>140775408</td>\n",
       "      <td>224124691</td>\n",
       "      <td>158965612</td>\n",
       "      <td>91317015</td>\n",
       "      <td>29836297</td>\n",
       "      <td>101187632</td>\n",
       "    </tr>\n",
       "    <tr>\n",
       "      <th>2</th>\n",
       "      <td>116819378</td>\n",
       "      <td>186056975</td>\n",
       "      <td>132043288</td>\n",
       "      <td>75721151</td>\n",
       "      <td>24793529</td>\n",
       "      <td>83960479</td>\n",
       "    </tr>\n",
       "    <tr>\n",
       "      <th>3</th>\n",
       "      <td>77539954</td>\n",
       "      <td>123478365</td>\n",
       "      <td>87616043</td>\n",
       "      <td>50274539</td>\n",
       "      <td>16447082</td>\n",
       "      <td>55732771</td>\n",
       "    </tr>\n",
       "    <tr>\n",
       "      <th rowspan=\"3\" valign=\"top\">2</th>\n",
       "      <th>4</th>\n",
       "      <td>8792304</td>\n",
       "      <td>13997671</td>\n",
       "      <td>9931919</td>\n",
       "      <td>5697149</td>\n",
       "      <td>1864610</td>\n",
       "      <td>6317801</td>\n",
       "    </tr>\n",
       "    <tr>\n",
       "      <th>5</th>\n",
       "      <td>56493621</td>\n",
       "      <td>89944467</td>\n",
       "      <td>63832558</td>\n",
       "      <td>36624388</td>\n",
       "      <td>11985460</td>\n",
       "      <td>40597222</td>\n",
       "    </tr>\n",
       "    <tr>\n",
       "      <th>6</th>\n",
       "      <td>104814530</td>\n",
       "      <td>166788091</td>\n",
       "      <td>118380153</td>\n",
       "      <td>67965003</td>\n",
       "      <td>22224247</td>\n",
       "      <td>75292235</td>\n",
       "    </tr>\n",
       "    <tr>\n",
       "      <th rowspan=\"3\" valign=\"top\">3</th>\n",
       "      <th>7</th>\n",
       "      <td>137294579</td>\n",
       "      <td>218470154</td>\n",
       "      <td>155055286</td>\n",
       "      <td>88973715</td>\n",
       "      <td>29100475</td>\n",
       "      <td>98642330</td>\n",
       "    </tr>\n",
       "    <tr>\n",
       "      <th>8</th>\n",
       "      <td>119738564</td>\n",
       "      <td>190574357</td>\n",
       "      <td>135202531</td>\n",
       "      <td>77625179</td>\n",
       "      <td>25411837</td>\n",
       "      <td>86012284</td>\n",
       "    </tr>\n",
       "    <tr>\n",
       "      <th>9</th>\n",
       "      <td>76747619</td>\n",
       "      <td>122175414</td>\n",
       "      <td>86713547</td>\n",
       "      <td>49720138</td>\n",
       "      <td>16286610</td>\n",
       "      <td>55188679</td>\n",
       "    </tr>\n",
       "    <tr>\n",
       "      <th rowspan=\"3\" valign=\"top\">4</th>\n",
       "      <th>10</th>\n",
       "      <td>16985431</td>\n",
       "      <td>27047532</td>\n",
       "      <td>19181663</td>\n",
       "      <td>11007733</td>\n",
       "      <td>3602359</td>\n",
       "      <td>12200451</td>\n",
       "    </tr>\n",
       "    <tr>\n",
       "      <th>11</th>\n",
       "      <td>41918987</td>\n",
       "      <td>66752138</td>\n",
       "      <td>47356951</td>\n",
       "      <td>27180342</td>\n",
       "      <td>8895967</td>\n",
       "      <td>30128187</td>\n",
       "    </tr>\n",
       "    <tr>\n",
       "      <th>12</th>\n",
       "      <td>118029475</td>\n",
       "      <td>187842145</td>\n",
       "      <td>133262890</td>\n",
       "      <td>76428592</td>\n",
       "      <td>25011542</td>\n",
       "      <td>84749122</td>\n",
       "    </tr>\n",
       "  </tbody>\n",
       "</table>\n",
       "</div>"
      ],
      "text/plain": [
       "state                 CT         MA         ME        NH        RI         VT\n",
       "quarter month                                                                \n",
       "1       1      140775408  224124691  158965612  91317015  29836297  101187632\n",
       "        2      116819378  186056975  132043288  75721151  24793529   83960479\n",
       "        3       77539954  123478365   87616043  50274539  16447082   55732771\n",
       "2       4        8792304   13997671    9931919   5697149   1864610    6317801\n",
       "        5       56493621   89944467   63832558  36624388  11985460   40597222\n",
       "        6      104814530  166788091  118380153  67965003  22224247   75292235\n",
       "3       7      137294579  218470154  155055286  88973715  29100475   98642330\n",
       "        8      119738564  190574357  135202531  77625179  25411837   86012284\n",
       "        9       76747619  122175414   86713547  49720138  16286610   55188679\n",
       "4       10      16985431   27047532   19181663  11007733   3602359   12200451\n",
       "        11      41918987   66752138   47356951  27180342   8895967   30128187\n",
       "        12     118029475  187842145  133262890  76428592  25011542   84749122"
      ]
     },
     "execution_count": 108,
     "metadata": {},
     "output_type": "execute_result"
    }
   ],
   "source": [
    "pd.crosstab([df.quarter, df.month], df.state, values=df.sum_con, aggfunc='sum', margins=False)"
   ]
  },
  {
   "cell_type": "markdown",
   "metadata": {},
   "source": [
    "More important than raw execution speed is the fact that this single query effectively used **all cores** of my CPU. By using some Linux `cpuset` magic and limiting the server to only half the available cores, the query took about double the time. This shows it could scale linearly with the number of CPUS. The usual server grade analytics server, with many more CPUs available should expect subsecond results on this query.\n",
    "\n",
    "### Conclusion\n",
    "\n",
    "We've shown how to install, configure, connect and query an Actian Vector database. We loaded a non-trivial amount of data and shown the DB can be performant even on calculation involving multiple `JOIN`s and hundreds of millions of rows on modest hardware, while scaling linearly with the number of CPUs. \n",
    "\n",
    "Just as important, the installation process was painless and doesn't require expert Linux or DBA skills. The scripts helped us with systemd and ODBC configuration and everything worked out-of-the-box with no fine-tunning required.\n"
   ]
  },
  {
   "cell_type": "code",
   "execution_count": null,
   "metadata": {
    "collapsed": true
   },
   "outputs": [],
   "source": []
  }
 ],
 "metadata": {
  "kernelspec": {
   "display_name": "Python 3",
   "language": "python",
   "name": "python3"
  },
  "language_info": {
   "codemirror_mode": {
    "name": "ipython",
    "version": 3
   },
   "file_extension": ".py",
   "mimetype": "text/x-python",
   "name": "python",
   "nbconvert_exporter": "python",
   "pygments_lexer": "ipython3",
   "version": "3.6.1"
  }
 },
 "nbformat": 4,
 "nbformat_minor": 2
}
